{
 "cells": [
  {
   "cell_type": "code",
   "execution_count": 104,
   "metadata": {},
   "outputs": [],
   "source": [
    "import pandas as pd\n",
    "import matplotlib.pyplot as plt\n",
    "import seaborn as sns\n",
    "from imblearn.under_sampling import RandomUnderSampler\n",
    "from sklearn.neighbors import KNeighborsClassifier\n",
    "from sklearn.model_selection import train_test_split"
   ]
  },
  {
   "cell_type": "code",
   "execution_count": 2,
   "metadata": {},
   "outputs": [],
   "source": [
    "#import data in data frame\n",
    "subbmission = pd.read_csv('./sample_submission_ejm25Dc.csv')\n",
    "data = pd.read_excel('./Train/train_Data.xlsx')\n",
    "data_test = pd.read_excel('./test_Data.xlsx')"
   ]
  },
  {
   "cell_type": "code",
   "execution_count": 194,
   "metadata": {},
   "outputs": [],
   "source": [
    "#merging data into one large file to preprocess.\n",
    "big_data = data.append(data_test)"
   ]
  },
  {
   "cell_type": "code",
   "execution_count": 195,
   "metadata": {},
   "outputs": [],
   "source": [
    "#find a optimise way to do this \n",
    "big_data['PaymentMode']=big_data['PaymentMode'].str.replace('PDC_E', 'PDC', regex=True)\n",
    "big_data['PaymentMode']=big_data['PaymentMode'].str.replace('Cheque', 'PDC', regex=True)"
   ]
  },
  {
   "cell_type": "code",
   "execution_count": 224,
   "metadata": {},
   "outputs": [],
   "source": [
    "#filling zip code with ranking as its categorical data , ranking is decided on basis of total disburst ammount of each zip code.\n",
    "\n",
    "zip_ranking =big_data.groupby('ZiPCODE')['DisbursalAmount'].sum().reset_index()\n",
    "\n",
    "zip_ranking['Ranking'] = zip_ranking['DisbursalAmount'].rank(ascending=False)\n",
    "\n",
    "ranking_for_zipcode = zip_ranking.set_index('ZiPCODE').to_dict()['Ranking']\n",
    "\n",
    "big_data['ZiPCODE'] = big_data['ZiPCODE'].map(ranking_for_zipcode)"
   ]
  },
  {
   "cell_type": "code",
   "execution_count": 225,
   "metadata": {},
   "outputs": [
    {
     "data": {
      "text/plain": [
       "0"
      ]
     },
     "execution_count": 225,
     "metadata": {},
     "output_type": "execute_result"
    }
   ],
   "source": [
    "big_data['ZiPCODE'].isnull().sum()"
   ]
  },
  {
   "cell_type": "code",
   "execution_count": 226,
   "metadata": {},
   "outputs": [],
   "source": [
    "big_data['ZiPCODE'].fillna(0,inplace=True)"
   ]
  },
  {
   "cell_type": "code",
   "execution_count": 227,
   "metadata": {},
   "outputs": [
    {
     "data": {
      "text/plain": [
       "0"
      ]
     },
     "execution_count": 227,
     "metadata": {},
     "output_type": "execute_result"
    }
   ],
   "source": [
    "big_data['ZiPCODE'].isnull().sum()"
   ]
  },
  {
   "cell_type": "code",
   "execution_count": 2,
   "metadata": {},
   "outputs": [
    {
     "ename": "NameError",
     "evalue": "name 'big_data' is not defined",
     "output_type": "error",
     "traceback": [
      "\u001b[1;31m---------------------------------------------------------------------------\u001b[0m",
      "\u001b[1;31mNameError\u001b[0m                                 Traceback (most recent call last)",
      "\u001b[1;32m<ipython-input-2-780aa9876933>\u001b[0m in \u001b[0;36m<module>\u001b[1;34m\u001b[0m\n\u001b[1;32m----> 1\u001b[1;33m X = big_data[['ID','Frequency', 'InstlmentMode', 'LoanStatus', 'PaymentMode',\n\u001b[0m\u001b[0;32m      2\u001b[0m        \u001b[1;34m'Tenure'\u001b[0m\u001b[1;33m,\u001b[0m \u001b[1;34m'AssetCost'\u001b[0m\u001b[1;33m,\u001b[0m \u001b[1;34m'AmountFinance'\u001b[0m\u001b[1;33m,\u001b[0m\u001b[1;33m\u001b[0m\u001b[1;33m\u001b[0m\u001b[0m\n\u001b[0;32m      3\u001b[0m        \u001b[1;34m'DisbursalAmount'\u001b[0m\u001b[1;33m,\u001b[0m \u001b[1;34m'EMI'\u001b[0m\u001b[1;33m,\u001b[0m \u001b[1;34m'DisbursalDate'\u001b[0m\u001b[1;33m,\u001b[0m \u001b[1;34m'MaturityDAte'\u001b[0m\u001b[1;33m,\u001b[0m \u001b[1;34m'AuthDate'\u001b[0m\u001b[1;33m,\u001b[0m\u001b[1;33m\u001b[0m\u001b[1;33m\u001b[0m\u001b[0m\n\u001b[0;32m      4\u001b[0m      \u001b[1;34m'LTV'\u001b[0m\u001b[1;33m,\u001b[0m \u001b[1;34m'SEX'\u001b[0m\u001b[1;33m,\u001b[0m \u001b[1;34m'AGE'\u001b[0m\u001b[1;33m,\u001b[0m\u001b[1;33m\u001b[0m\u001b[1;33m\u001b[0m\u001b[0m\n\u001b[0;32m      5\u001b[0m        'MonthlyIncome', 'ZiPCODE', 'Top-up Month']]\n",
      "\u001b[1;31mNameError\u001b[0m: name 'big_data' is not defined"
     ]
    }
   ],
   "source": [
    "X = big_data[['ID','Frequency', 'InstlmentMode', 'LoanStatus', 'PaymentMode',\n",
    "       'Tenure', 'AssetCost', 'AmountFinance',\n",
    "       'DisbursalAmount', 'EMI', 'DisbursalDate', 'MaturityDAte', 'AuthDate',\n",
    "     'LTV', 'SEX', 'AGE',\n",
    "       'MonthlyIncome', 'ZiPCODE', 'Top-up Month']]"
   ]
  },
  {
   "cell_type": "code",
   "execution_count": 269,
   "metadata": {},
   "outputs": [
    {
     "data": {
      "text/plain": [
       "ID                     0\n",
       "Frequency              0\n",
       "InstlmentMode          0\n",
       "LoanStatus             0\n",
       "PaymentMode            0\n",
       "Tenure                 0\n",
       "AssetCost              0\n",
       "AmountFinance          0\n",
       "DisbursalAmount        0\n",
       "EMI                    0\n",
       "DisbursalDate          0\n",
       "MaturityDAte           1\n",
       "AuthDate               0\n",
       "ManufacturerID         2\n",
       "SupplierID             0\n",
       "LTV                    0\n",
       "SEX                   64\n",
       "AGE                   66\n",
       "MonthlyIncome        248\n",
       "ZiPCODE                0\n",
       "Top-up Month       14745\n",
       "dtype: int64"
      ]
     },
     "execution_count": 269,
     "metadata": {},
     "output_type": "execute_result"
    }
   ],
   "source": [
    "X.isnull().sum()"
   ]
  },
  {
   "cell_type": "code",
   "execution_count": 270,
   "metadata": {},
   "outputs": [
    {
     "data": {
      "text/plain": [
       "0        47425.876345\n",
       "1        44413.691817\n",
       "2        45098.437186\n",
       "3        45348.080927\n",
       "4        46096.110977\n",
       "             ...     \n",
       "14740             NaN\n",
       "14741             NaN\n",
       "14742             NaN\n",
       "14743             NaN\n",
       "14744             NaN\n",
       "Name: MonthlyIncome, Length: 143400, dtype: float64"
      ]
     },
     "execution_count": 270,
     "metadata": {},
     "output_type": "execute_result"
    }
   ],
   "source": [
    "X.groupby(['AGE'])['MonthlyIncome'].transform('mean')"
   ]
  },
  {
   "cell_type": "code",
   "execution_count": 271,
   "metadata": {},
   "outputs": [
    {
     "data": {
      "text/plain": [
       "40.62054362537849"
      ]
     },
     "execution_count": 271,
     "metadata": {},
     "output_type": "execute_result"
    }
   ],
   "source": [
    "X['AGE'].mean()"
   ]
  },
  {
   "cell_type": "code",
   "execution_count": 272,
   "metadata": {},
   "outputs": [
    {
     "name": "stderr",
     "output_type": "stream",
     "text": [
      "C:\\Users\\rushi\\anaconda3\\lib\\site-packages\\pandas\\core\\generic.py:6245: SettingWithCopyWarning: \n",
      "A value is trying to be set on a copy of a slice from a DataFrame\n",
      "\n",
      "See the caveats in the documentation: https://pandas.pydata.org/pandas-docs/stable/user_guide/indexing.html#returning-a-view-versus-a-copy\n",
      "  self._update_inplace(new_data)\n"
     ]
    }
   ],
   "source": [
    "X['AGE'].fillna(40.6,inplace=True)"
   ]
  },
  {
   "cell_type": "code",
   "execution_count": 273,
   "metadata": {},
   "outputs": [],
   "source": [
    "X['MonthlyIncome'].fillna(X.groupby(['AGE'])['MonthlyIncome'].transform('mean'),inplace=True)"
   ]
  },
  {
   "cell_type": "code",
   "execution_count": 274,
   "metadata": {},
   "outputs": [
    {
     "data": {
      "text/plain": [
       "M    136273\n",
       "F      7063\n",
       "Name: SEX, dtype: int64"
      ]
     },
     "execution_count": 274,
     "metadata": {},
     "output_type": "execute_result"
    }
   ],
   "source": [
    "X.SEX.value_counts()"
   ]
  },
  {
   "cell_type": "code",
   "execution_count": 275,
   "metadata": {},
   "outputs": [],
   "source": [
    "X['SEX'].fillna('M',inplace=True)"
   ]
  },
  {
   "cell_type": "code",
   "execution_count": 276,
   "metadata": {},
   "outputs": [
    {
     "data": {
      "text/plain": [
       "1046.0    28391\n",
       "1186.0    25525\n",
       "1062.0    20026\n",
       "1568.0    17503\n",
       "1060.0    17335\n",
       "1019.0    16926\n",
       "1187.0    12895\n",
       "1049.0     3524\n",
       "3473.0      819\n",
       "2608.0      431\n",
       "2965.0       20\n",
       "2721.0        2\n",
       "2733.0        1\n",
       "Name: ManufacturerID, dtype: int64"
      ]
     },
     "execution_count": 276,
     "metadata": {},
     "output_type": "execute_result"
    }
   ],
   "source": [
    "X.ManufacturerID.value_counts()"
   ]
  },
  {
   "cell_type": "code",
   "execution_count": 277,
   "metadata": {},
   "outputs": [],
   "source": [
    "X['ManufacturerID'].fillna(1046.0,inplace=True)"
   ]
  },
  {
   "cell_type": "code",
   "execution_count": 278,
   "metadata": {},
   "outputs": [
    {
     "data": {
      "text/plain": [
       "2018-06-10    2788\n",
       "2017-06-10    2735\n",
       "2017-12-10    2691\n",
       "2019-06-10    2666\n",
       "2021-06-10    2569\n",
       "              ... \n",
       "2015-02-08       1\n",
       "2011-03-18       1\n",
       "2014-01-26       1\n",
       "2022-03-03       1\n",
       "2013-12-22       1\n",
       "Name: MaturityDAte, Length: 982, dtype: int64"
      ]
     },
     "execution_count": 278,
     "metadata": {},
     "output_type": "execute_result"
    }
   ],
   "source": [
    "X.MaturityDAte.value_counts()"
   ]
  },
  {
   "cell_type": "code",
   "execution_count": 279,
   "metadata": {},
   "outputs": [],
   "source": [
    "X['MaturityDAte'].fillna('2018-06-10',inplace=True)"
   ]
  },
  {
   "cell_type": "code",
   "execution_count": 280,
   "metadata": {},
   "outputs": [
    {
     "name": "stderr",
     "output_type": "stream",
     "text": [
      "<ipython-input-280-8676ac7c13ba>:1: SettingWithCopyWarning: \n",
      "A value is trying to be set on a copy of a slice from a DataFrame.\n",
      "Try using .loc[row_indexer,col_indexer] = value instead\n",
      "\n",
      "See the caveats in the documentation: https://pandas.pydata.org/pandas-docs/stable/user_guide/indexing.html#returning-a-view-versus-a-copy\n",
      "  X['MaturityDAte']=pd.to_datetime(X['MaturityDAte'])\n"
     ]
    }
   ],
   "source": [
    "X['MaturityDAte']=pd.to_datetime(X['MaturityDAte'])\n"
   ]
  },
  {
   "cell_type": "code",
   "execution_count": 281,
   "metadata": {},
   "outputs": [
    {
     "data": {
      "text/plain": [
       "ID                          int64\n",
       "Frequency                  object\n",
       "InstlmentMode              object\n",
       "LoanStatus                 object\n",
       "PaymentMode                object\n",
       "Tenure                      int64\n",
       "AssetCost                   int64\n",
       "AmountFinance             float64\n",
       "DisbursalAmount           float64\n",
       "EMI                       float64\n",
       "DisbursalDate      datetime64[ns]\n",
       "MaturityDAte       datetime64[ns]\n",
       "AuthDate           datetime64[ns]\n",
       "ManufacturerID            float64\n",
       "SupplierID                  int64\n",
       "LTV                       float64\n",
       "SEX                        object\n",
       "AGE                       float64\n",
       "MonthlyIncome             float64\n",
       "ZiPCODE                   float64\n",
       "Top-up Month               object\n",
       "dtype: object"
      ]
     },
     "execution_count": 281,
     "metadata": {},
     "output_type": "execute_result"
    }
   ],
   "source": [
    "X.dtypes"
   ]
  },
  {
   "cell_type": "code",
   "execution_count": 282,
   "metadata": {},
   "outputs": [
    {
     "data": {
      "text/html": [
       "<div>\n",
       "<style scoped>\n",
       "    .dataframe tbody tr th:only-of-type {\n",
       "        vertical-align: middle;\n",
       "    }\n",
       "\n",
       "    .dataframe tbody tr th {\n",
       "        vertical-align: top;\n",
       "    }\n",
       "\n",
       "    .dataframe thead th {\n",
       "        text-align: right;\n",
       "    }\n",
       "</style>\n",
       "<table border=\"1\" class=\"dataframe\">\n",
       "  <thead>\n",
       "    <tr style=\"text-align: right;\">\n",
       "      <th></th>\n",
       "      <th>ID</th>\n",
       "      <th>Top-up Month</th>\n",
       "    </tr>\n",
       "  </thead>\n",
       "  <tbody>\n",
       "    <tr>\n",
       "      <th>0</th>\n",
       "      <td>4</td>\n",
       "      <td>&gt; 48 Months</td>\n",
       "    </tr>\n",
       "    <tr>\n",
       "      <th>1</th>\n",
       "      <td>5</td>\n",
       "      <td>36-48 Months</td>\n",
       "    </tr>\n",
       "    <tr>\n",
       "      <th>2</th>\n",
       "      <td>6</td>\n",
       "      <td>&gt; 48 Months</td>\n",
       "    </tr>\n",
       "    <tr>\n",
       "      <th>3</th>\n",
       "      <td>25</td>\n",
       "      <td>24-30 Months</td>\n",
       "    </tr>\n",
       "    <tr>\n",
       "      <th>4</th>\n",
       "      <td>119</td>\n",
       "      <td>&gt; 48 Months</td>\n",
       "    </tr>\n",
       "    <tr>\n",
       "      <th>...</th>\n",
       "      <td>...</td>\n",
       "      <td>...</td>\n",
       "    </tr>\n",
       "    <tr>\n",
       "      <th>14740</th>\n",
       "      <td>143396</td>\n",
       "      <td>36-48 Months</td>\n",
       "    </tr>\n",
       "    <tr>\n",
       "      <th>14741</th>\n",
       "      <td>143397</td>\n",
       "      <td>36-48 Months</td>\n",
       "    </tr>\n",
       "    <tr>\n",
       "      <th>14742</th>\n",
       "      <td>143398</td>\n",
       "      <td>36-48 Months</td>\n",
       "    </tr>\n",
       "    <tr>\n",
       "      <th>14743</th>\n",
       "      <td>143399</td>\n",
       "      <td>No Top-up Service</td>\n",
       "    </tr>\n",
       "    <tr>\n",
       "      <th>14744</th>\n",
       "      <td>143400</td>\n",
       "      <td>No Top-up Service</td>\n",
       "    </tr>\n",
       "  </tbody>\n",
       "</table>\n",
       "<p>14745 rows × 2 columns</p>\n",
       "</div>"
      ],
      "text/plain": [
       "           ID       Top-up Month\n",
       "0           4        > 48 Months\n",
       "1           5       36-48 Months\n",
       "2           6        > 48 Months\n",
       "3          25       24-30 Months\n",
       "4         119        > 48 Months\n",
       "...       ...                ...\n",
       "14740  143396       36-48 Months\n",
       "14741  143397       36-48 Months\n",
       "14742  143398       36-48 Months\n",
       "14743  143399  No Top-up Service\n",
       "14744  143400  No Top-up Service\n",
       "\n",
       "[14745 rows x 2 columns]"
      ]
     },
     "execution_count": 282,
     "metadata": {},
     "output_type": "execute_result"
    }
   ],
   "source": [
    "test"
   ]
  },
  {
   "cell_type": "code",
   "execution_count": null,
   "metadata": {},
   "outputs": [],
   "source": []
  },
  {
   "cell_type": "code",
   "execution_count": 283,
   "metadata": {},
   "outputs": [
    {
     "name": "stderr",
     "output_type": "stream",
     "text": [
      "<ipython-input-283-92ce15666475>:1: SettingWithCopyWarning: \n",
      "A value is trying to be set on a copy of a slice from a DataFrame.\n",
      "Try using .loc[row_indexer,col_indexer] = value instead\n",
      "\n",
      "See the caveats in the documentation: https://pandas.pydata.org/pandas-docs/stable/user_guide/indexing.html#returning-a-view-versus-a-copy\n",
      "  X['DisbursalDate_day']=X['DisbursalDate'].dt.day\n",
      "<ipython-input-283-92ce15666475>:2: SettingWithCopyWarning: \n",
      "A value is trying to be set on a copy of a slice from a DataFrame.\n",
      "Try using .loc[row_indexer,col_indexer] = value instead\n",
      "\n",
      "See the caveats in the documentation: https://pandas.pydata.org/pandas-docs/stable/user_guide/indexing.html#returning-a-view-versus-a-copy\n",
      "  X['DisbursalDate_month']=X['DisbursalDate'].dt.month\n",
      "<ipython-input-283-92ce15666475>:3: SettingWithCopyWarning: \n",
      "A value is trying to be set on a copy of a slice from a DataFrame.\n",
      "Try using .loc[row_indexer,col_indexer] = value instead\n",
      "\n",
      "See the caveats in the documentation: https://pandas.pydata.org/pandas-docs/stable/user_guide/indexing.html#returning-a-view-versus-a-copy\n",
      "  X['DisbursalDate_year']=X['DisbursalDate'].dt.year\n",
      "<ipython-input-283-92ce15666475>:6: SettingWithCopyWarning: \n",
      "A value is trying to be set on a copy of a slice from a DataFrame.\n",
      "Try using .loc[row_indexer,col_indexer] = value instead\n",
      "\n",
      "See the caveats in the documentation: https://pandas.pydata.org/pandas-docs/stable/user_guide/indexing.html#returning-a-view-versus-a-copy\n",
      "  X['MaturityDAte_day']=X['MaturityDAte'].dt.day\n"
     ]
    }
   ],
   "source": [
    "X['DisbursalDate_day']=X['DisbursalDate'].dt.day\n",
    "X['DisbursalDate_month']=X['DisbursalDate'].dt.month\n",
    "X['DisbursalDate_year']=X['DisbursalDate'].dt.year\n",
    "\n",
    "\n",
    "X['MaturityDAte_day']=X['MaturityDAte'].dt.day\n",
    "X['MaturityDAte_month']=X['MaturityDAte'].dt.month\n",
    "X['MaturityDAte_year']=X['MaturityDAte'].dt.year\n",
    "\n",
    "X['AuthDate_day']=X['AuthDate'].dt.day\n",
    "X['AuthDate_month']=X['AuthDate'].dt.month\n",
    "X['AuthDate_year']=X['AuthDate'].dt.year"
   ]
  },
  {
   "cell_type": "code",
   "execution_count": 284,
   "metadata": {},
   "outputs": [],
   "source": [
    "X.drop(['DisbursalDate','MaturityDAte','AuthDate'],1,inplace=True)"
   ]
  },
  {
   "cell_type": "code",
   "execution_count": 285,
   "metadata": {},
   "outputs": [
    {
     "data": {
      "text/plain": [
       "ID                       int64\n",
       "Frequency               object\n",
       "InstlmentMode           object\n",
       "LoanStatus              object\n",
       "PaymentMode             object\n",
       "Tenure                   int64\n",
       "AssetCost                int64\n",
       "AmountFinance          float64\n",
       "DisbursalAmount        float64\n",
       "EMI                    float64\n",
       "ManufacturerID         float64\n",
       "SupplierID               int64\n",
       "LTV                    float64\n",
       "SEX                     object\n",
       "AGE                    float64\n",
       "MonthlyIncome          float64\n",
       "ZiPCODE                float64\n",
       "Top-up Month            object\n",
       "DisbursalDate_day        int64\n",
       "DisbursalDate_month      int64\n",
       "DisbursalDate_year       int64\n",
       "MaturityDAte_day         int64\n",
       "MaturityDAte_month       int64\n",
       "MaturityDAte_year        int64\n",
       "AuthDate_day             int64\n",
       "AuthDate_month           int64\n",
       "AuthDate_year            int64\n",
       "dtype: object"
      ]
     },
     "execution_count": 285,
     "metadata": {},
     "output_type": "execute_result"
    }
   ],
   "source": [
    "X.dtypes"
   ]
  },
  {
   "cell_type": "code",
   "execution_count": 286,
   "metadata": {},
   "outputs": [],
   "source": [
    "X = pd.get_dummies(data=X,columns=['Frequency','InstlmentMode','LoanStatus','PaymentMode','SEX'])"
   ]
  },
  {
   "cell_type": "code",
   "execution_count": 287,
   "metadata": {},
   "outputs": [],
   "source": [
    "test = X[X['Top-up Month'].isnull()]"
   ]
  },
  {
   "cell_type": "code",
   "execution_count": 288,
   "metadata": {},
   "outputs": [],
   "source": [
    "X.dropna(inplace=True)"
   ]
  },
  {
   "cell_type": "code",
   "execution_count": 157,
   "metadata": {},
   "outputs": [
    {
     "data": {
      "text/html": [
       "<div>\n",
       "<style scoped>\n",
       "    .dataframe tbody tr th:only-of-type {\n",
       "        vertical-align: middle;\n",
       "    }\n",
       "\n",
       "    .dataframe tbody tr th {\n",
       "        vertical-align: top;\n",
       "    }\n",
       "\n",
       "    .dataframe thead th {\n",
       "        text-align: right;\n",
       "    }\n",
       "</style>\n",
       "<table border=\"1\" class=\"dataframe\">\n",
       "  <thead>\n",
       "    <tr style=\"text-align: right;\">\n",
       "      <th></th>\n",
       "      <th>ID</th>\n",
       "      <th>Tenure</th>\n",
       "      <th>AssetCost</th>\n",
       "      <th>AmountFinance</th>\n",
       "      <th>DisbursalAmount</th>\n",
       "      <th>EMI</th>\n",
       "      <th>ManufacturerID</th>\n",
       "      <th>SupplierID</th>\n",
       "      <th>LTV</th>\n",
       "      <th>AGE</th>\n",
       "      <th>...</th>\n",
       "      <th>PaymentMode_Billed</th>\n",
       "      <th>PaymentMode_Direct Debit</th>\n",
       "      <th>PaymentMode_ECS</th>\n",
       "      <th>PaymentMode_ECS Reject</th>\n",
       "      <th>PaymentMode_Escrow</th>\n",
       "      <th>PaymentMode_PDC</th>\n",
       "      <th>PaymentMode_PDC Reject</th>\n",
       "      <th>PaymentMode_SI Reject</th>\n",
       "      <th>SEX_F</th>\n",
       "      <th>SEX_M</th>\n",
       "    </tr>\n",
       "  </thead>\n",
       "  <tbody>\n",
       "    <tr>\n",
       "      <th>0</th>\n",
       "      <td>4</td>\n",
       "      <td>46</td>\n",
       "      <td>480000</td>\n",
       "      <td>365000.0</td>\n",
       "      <td>365000.0</td>\n",
       "      <td>1000.0</td>\n",
       "      <td>1046.0</td>\n",
       "      <td>22354</td>\n",
       "      <td>75.83</td>\n",
       "      <td>50.0</td>\n",
       "      <td>...</td>\n",
       "      <td>0</td>\n",
       "      <td>0</td>\n",
       "      <td>0</td>\n",
       "      <td>0</td>\n",
       "      <td>0</td>\n",
       "      <td>1</td>\n",
       "      <td>0</td>\n",
       "      <td>0</td>\n",
       "      <td>0</td>\n",
       "      <td>1</td>\n",
       "    </tr>\n",
       "    <tr>\n",
       "      <th>1</th>\n",
       "      <td>5</td>\n",
       "      <td>45</td>\n",
       "      <td>480000</td>\n",
       "      <td>285000.0</td>\n",
       "      <td>285000.0</td>\n",
       "      <td>9300.0</td>\n",
       "      <td>1046.0</td>\n",
       "      <td>22354</td>\n",
       "      <td>57.44</td>\n",
       "      <td>35.0</td>\n",
       "      <td>...</td>\n",
       "      <td>0</td>\n",
       "      <td>0</td>\n",
       "      <td>0</td>\n",
       "      <td>0</td>\n",
       "      <td>0</td>\n",
       "      <td>1</td>\n",
       "      <td>0</td>\n",
       "      <td>0</td>\n",
       "      <td>0</td>\n",
       "      <td>1</td>\n",
       "    </tr>\n",
       "    <tr>\n",
       "      <th>2</th>\n",
       "      <td>6</td>\n",
       "      <td>48</td>\n",
       "      <td>580000</td>\n",
       "      <td>400000.0</td>\n",
       "      <td>400000.0</td>\n",
       "      <td>35800.0</td>\n",
       "      <td>1060.0</td>\n",
       "      <td>65929</td>\n",
       "      <td>68.97</td>\n",
       "      <td>37.0</td>\n",
       "      <td>...</td>\n",
       "      <td>0</td>\n",
       "      <td>0</td>\n",
       "      <td>0</td>\n",
       "      <td>0</td>\n",
       "      <td>0</td>\n",
       "      <td>1</td>\n",
       "      <td>0</td>\n",
       "      <td>0</td>\n",
       "      <td>0</td>\n",
       "      <td>1</td>\n",
       "    </tr>\n",
       "    <tr>\n",
       "      <th>3</th>\n",
       "      <td>25</td>\n",
       "      <td>36</td>\n",
       "      <td>725000</td>\n",
       "      <td>500000.0</td>\n",
       "      <td>500000.0</td>\n",
       "      <td>52000.0</td>\n",
       "      <td>1049.0</td>\n",
       "      <td>68597</td>\n",
       "      <td>61.79</td>\n",
       "      <td>55.0</td>\n",
       "      <td>...</td>\n",
       "      <td>1</td>\n",
       "      <td>0</td>\n",
       "      <td>0</td>\n",
       "      <td>0</td>\n",
       "      <td>0</td>\n",
       "      <td>0</td>\n",
       "      <td>0</td>\n",
       "      <td>0</td>\n",
       "      <td>0</td>\n",
       "      <td>1</td>\n",
       "    </tr>\n",
       "    <tr>\n",
       "      <th>4</th>\n",
       "      <td>119</td>\n",
       "      <td>48</td>\n",
       "      <td>617000</td>\n",
       "      <td>400000.0</td>\n",
       "      <td>400000.0</td>\n",
       "      <td>35400.0</td>\n",
       "      <td>1049.0</td>\n",
       "      <td>38493</td>\n",
       "      <td>59.09</td>\n",
       "      <td>48.0</td>\n",
       "      <td>...</td>\n",
       "      <td>0</td>\n",
       "      <td>0</td>\n",
       "      <td>0</td>\n",
       "      <td>0</td>\n",
       "      <td>0</td>\n",
       "      <td>1</td>\n",
       "      <td>0</td>\n",
       "      <td>0</td>\n",
       "      <td>0</td>\n",
       "      <td>1</td>\n",
       "    </tr>\n",
       "    <tr>\n",
       "      <th>...</th>\n",
       "      <td>...</td>\n",
       "      <td>...</td>\n",
       "      <td>...</td>\n",
       "      <td>...</td>\n",
       "      <td>...</td>\n",
       "      <td>...</td>\n",
       "      <td>...</td>\n",
       "      <td>...</td>\n",
       "      <td>...</td>\n",
       "      <td>...</td>\n",
       "      <td>...</td>\n",
       "      <td>...</td>\n",
       "      <td>...</td>\n",
       "      <td>...</td>\n",
       "      <td>...</td>\n",
       "      <td>...</td>\n",
       "      <td>...</td>\n",
       "      <td>...</td>\n",
       "      <td>...</td>\n",
       "      <td>...</td>\n",
       "      <td>...</td>\n",
       "    </tr>\n",
       "    <tr>\n",
       "      <th>14740</th>\n",
       "      <td>143396</td>\n",
       "      <td>35</td>\n",
       "      <td>530016</td>\n",
       "      <td>419616.0</td>\n",
       "      <td>419616.0</td>\n",
       "      <td>14723.0</td>\n",
       "      <td>1046.0</td>\n",
       "      <td>22094</td>\n",
       "      <td>79.17</td>\n",
       "      <td>41.0</td>\n",
       "      <td>...</td>\n",
       "      <td>0</td>\n",
       "      <td>0</td>\n",
       "      <td>0</td>\n",
       "      <td>0</td>\n",
       "      <td>0</td>\n",
       "      <td>1</td>\n",
       "      <td>0</td>\n",
       "      <td>0</td>\n",
       "      <td>0</td>\n",
       "      <td>1</td>\n",
       "    </tr>\n",
       "    <tr>\n",
       "      <th>14741</th>\n",
       "      <td>143397</td>\n",
       "      <td>36</td>\n",
       "      <td>595000</td>\n",
       "      <td>446500.0</td>\n",
       "      <td>446500.0</td>\n",
       "      <td>15491.0</td>\n",
       "      <td>2721.0</td>\n",
       "      <td>61196</td>\n",
       "      <td>75.04</td>\n",
       "      <td>41.0</td>\n",
       "      <td>...</td>\n",
       "      <td>0</td>\n",
       "      <td>0</td>\n",
       "      <td>0</td>\n",
       "      <td>0</td>\n",
       "      <td>0</td>\n",
       "      <td>1</td>\n",
       "      <td>0</td>\n",
       "      <td>0</td>\n",
       "      <td>0</td>\n",
       "      <td>1</td>\n",
       "    </tr>\n",
       "    <tr>\n",
       "      <th>14742</th>\n",
       "      <td>143398</td>\n",
       "      <td>36</td>\n",
       "      <td>595000</td>\n",
       "      <td>446500.0</td>\n",
       "      <td>446500.0</td>\n",
       "      <td>15491.0</td>\n",
       "      <td>2721.0</td>\n",
       "      <td>61196</td>\n",
       "      <td>75.04</td>\n",
       "      <td>41.0</td>\n",
       "      <td>...</td>\n",
       "      <td>0</td>\n",
       "      <td>0</td>\n",
       "      <td>0</td>\n",
       "      <td>0</td>\n",
       "      <td>0</td>\n",
       "      <td>1</td>\n",
       "      <td>0</td>\n",
       "      <td>0</td>\n",
       "      <td>0</td>\n",
       "      <td>1</td>\n",
       "    </tr>\n",
       "    <tr>\n",
       "      <th>14743</th>\n",
       "      <td>143399</td>\n",
       "      <td>12</td>\n",
       "      <td>400000</td>\n",
       "      <td>280000.0</td>\n",
       "      <td>280000.0</td>\n",
       "      <td>25350.0</td>\n",
       "      <td>1046.0</td>\n",
       "      <td>63565</td>\n",
       "      <td>70.00</td>\n",
       "      <td>41.0</td>\n",
       "      <td>...</td>\n",
       "      <td>0</td>\n",
       "      <td>0</td>\n",
       "      <td>0</td>\n",
       "      <td>0</td>\n",
       "      <td>0</td>\n",
       "      <td>1</td>\n",
       "      <td>0</td>\n",
       "      <td>0</td>\n",
       "      <td>0</td>\n",
       "      <td>1</td>\n",
       "    </tr>\n",
       "    <tr>\n",
       "      <th>14744</th>\n",
       "      <td>143400</td>\n",
       "      <td>12</td>\n",
       "      <td>400000</td>\n",
       "      <td>280000.0</td>\n",
       "      <td>280000.0</td>\n",
       "      <td>25350.0</td>\n",
       "      <td>1046.0</td>\n",
       "      <td>63565</td>\n",
       "      <td>70.00</td>\n",
       "      <td>41.0</td>\n",
       "      <td>...</td>\n",
       "      <td>0</td>\n",
       "      <td>0</td>\n",
       "      <td>0</td>\n",
       "      <td>0</td>\n",
       "      <td>0</td>\n",
       "      <td>1</td>\n",
       "      <td>0</td>\n",
       "      <td>0</td>\n",
       "      <td>0</td>\n",
       "      <td>1</td>\n",
       "    </tr>\n",
       "  </tbody>\n",
       "</table>\n",
       "<p>14745 rows × 41 columns</p>\n",
       "</div>"
      ],
      "text/plain": [
       "           ID  Tenure  AssetCost  AmountFinance  DisbursalAmount      EMI  \\\n",
       "0           4      46     480000       365000.0         365000.0   1000.0   \n",
       "1           5      45     480000       285000.0         285000.0   9300.0   \n",
       "2           6      48     580000       400000.0         400000.0  35800.0   \n",
       "3          25      36     725000       500000.0         500000.0  52000.0   \n",
       "4         119      48     617000       400000.0         400000.0  35400.0   \n",
       "...       ...     ...        ...            ...              ...      ...   \n",
       "14740  143396      35     530016       419616.0         419616.0  14723.0   \n",
       "14741  143397      36     595000       446500.0         446500.0  15491.0   \n",
       "14742  143398      36     595000       446500.0         446500.0  15491.0   \n",
       "14743  143399      12     400000       280000.0         280000.0  25350.0   \n",
       "14744  143400      12     400000       280000.0         280000.0  25350.0   \n",
       "\n",
       "       ManufacturerID  SupplierID    LTV   AGE  ...  PaymentMode_Billed  \\\n",
       "0              1046.0       22354  75.83  50.0  ...                   0   \n",
       "1              1046.0       22354  57.44  35.0  ...                   0   \n",
       "2              1060.0       65929  68.97  37.0  ...                   0   \n",
       "3              1049.0       68597  61.79  55.0  ...                   1   \n",
       "4              1049.0       38493  59.09  48.0  ...                   0   \n",
       "...               ...         ...    ...   ...  ...                 ...   \n",
       "14740          1046.0       22094  79.17  41.0  ...                   0   \n",
       "14741          2721.0       61196  75.04  41.0  ...                   0   \n",
       "14742          2721.0       61196  75.04  41.0  ...                   0   \n",
       "14743          1046.0       63565  70.00  41.0  ...                   0   \n",
       "14744          1046.0       63565  70.00  41.0  ...                   0   \n",
       "\n",
       "       PaymentMode_Direct Debit PaymentMode_ECS  PaymentMode_ECS Reject  \\\n",
       "0                             0               0                       0   \n",
       "1                             0               0                       0   \n",
       "2                             0               0                       0   \n",
       "3                             0               0                       0   \n",
       "4                             0               0                       0   \n",
       "...                         ...             ...                     ...   \n",
       "14740                         0               0                       0   \n",
       "14741                         0               0                       0   \n",
       "14742                         0               0                       0   \n",
       "14743                         0               0                       0   \n",
       "14744                         0               0                       0   \n",
       "\n",
       "       PaymentMode_Escrow  PaymentMode_PDC  PaymentMode_PDC Reject  \\\n",
       "0                       0                1                       0   \n",
       "1                       0                1                       0   \n",
       "2                       0                1                       0   \n",
       "3                       0                0                       0   \n",
       "4                       0                1                       0   \n",
       "...                   ...              ...                     ...   \n",
       "14740                   0                1                       0   \n",
       "14741                   0                1                       0   \n",
       "14742                   0                1                       0   \n",
       "14743                   0                1                       0   \n",
       "14744                   0                1                       0   \n",
       "\n",
       "       PaymentMode_SI Reject  SEX_F  SEX_M  \n",
       "0                          0      0      1  \n",
       "1                          0      0      1  \n",
       "2                          0      0      1  \n",
       "3                          0      0      1  \n",
       "4                          0      0      1  \n",
       "...                      ...    ...    ...  \n",
       "14740                      0      0      1  \n",
       "14741                      0      0      1  \n",
       "14742                      0      0      1  \n",
       "14743                      0      0      1  \n",
       "14744                      0      0      1  \n",
       "\n",
       "[14745 rows x 41 columns]"
      ]
     },
     "execution_count": 157,
     "metadata": {},
     "output_type": "execute_result"
    }
   ],
   "source": [
    "test"
   ]
  },
  {
   "cell_type": "code",
   "execution_count": 110,
   "metadata": {},
   "outputs": [],
   "source": [
    "from sklearn.metrics import classification_report, confusion_matrix, accuracy_score    \n",
    "def results(y_test,X_test):\n",
    "    ypred=knn_clf.predict(X_test)\n",
    "    result = confusion_matrix(y_test, ypred)\n",
    "    print(\"Confusion Matrix:\")\n",
    "    print(result)\n",
    "    result1 = classification_report(y_test, ypred)\n",
    "    print(\"Classification Report:\")\n",
    "    print (result1)\n",
    "    result2 = accuracy_score(y_test,ypred)\n",
    "    print(\"Accuracy:\",result2)"
   ]
  },
  {
   "cell_type": "code",
   "execution_count": 266,
   "metadata": {},
   "outputs": [],
   "source": [
    "def fitknn(x_in,y_in):\n",
    "    test_result = test.copy()\n",
    "    knn_clf=KNeighborsClassifier(n_neighbors=7)\n",
    "    knn_clf.fit(x_in,y_in)\n",
    "    ypred=knn_clf.predict(X_test)\n",
    "    result = confusion_matrix(y_test, ypred)\n",
    "    print(\"Confusion Matrix:\")\n",
    "    print(result)\n",
    "    result1 = classification_report(y_test, ypred)\n",
    "    print(\"Classification Report:\")\n",
    "    print (result1)\n",
    "    result2 = accuracy_score(y_test,ypred)\n",
    "    print(\"Accuracy:\",result2)\n",
    "    pred_result=knn_clf.predict(test.drop('Top-up Month',1))\n",
    "    test_result['Top-up Month'] = pred_result\n",
    "    test_result=test_result[['ID','Top-up Month']]\n",
    "    test_result.to_csv('test_result_knn.csv',index=False)\n",
    "    "
   ]
  },
  {
   "cell_type": "code",
   "execution_count": 297,
   "metadata": {},
   "outputs": [],
   "source": [
    "y=X['Top-up Month']\n",
    "x=X.drop('Top-up Month',1)"
   ]
  },
  {
   "cell_type": "code",
   "execution_count": 164,
   "metadata": {},
   "outputs": [
    {
     "data": {
      "text/plain": [
       "ID                          0\n",
       "Tenure                      0\n",
       "AssetCost                   0\n",
       "AmountFinance               0\n",
       "DisbursalAmount             0\n",
       "EMI                         0\n",
       "ManufacturerID              0\n",
       "SupplierID                  0\n",
       "LTV                         0\n",
       "AGE                         0\n",
       "MonthlyIncome               7\n",
       "ZiPCODE                     0\n",
       "DisbursalDate_day           0\n",
       "DisbursalDate_month         0\n",
       "DisbursalDate_year          0\n",
       "MaturityDAte_day            0\n",
       "MaturityDAte_month          0\n",
       "MaturityDAte_year           0\n",
       "AuthDate_day                0\n",
       "AuthDate_month              0\n",
       "AuthDate_year               0\n",
       "Frequency_BI-Monthly        0\n",
       "Frequency_Half Yearly       0\n",
       "Frequency_Monthly           0\n",
       "Frequency_Quatrly           0\n",
       "InstlmentMode_Advance       0\n",
       "InstlmentMode_Arrear        0\n",
       "LoanStatus_Active           0\n",
       "LoanStatus_Closed           0\n",
       "PaymentMode_Auto Debit      0\n",
       "PaymentMode_Billed          0\n",
       "PaymentMode_Direct Debit    0\n",
       "PaymentMode_ECS             0\n",
       "PaymentMode_ECS Reject      0\n",
       "PaymentMode_Escrow          0\n",
       "PaymentMode_PDC             0\n",
       "PaymentMode_PDC Reject      0\n",
       "PaymentMode_SI Reject       0\n",
       "SEX_F                       0\n",
       "SEX_M                       0\n",
       "dtype: int64"
      ]
     },
     "execution_count": 164,
     "metadata": {},
     "output_type": "execute_result"
    }
   ],
   "source": [
    "test.drop('Top-up Month',1).isnull().sum()"
   ]
  },
  {
   "cell_type": "code",
   "execution_count": 109,
   "metadata": {},
   "outputs": [],
   "source": [
    "rus = RandomUnderSampler(random_state=0)\n",
    "\n",
    "rus.fit(x,y)\n",
    "\n",
    "X_resampled, y_resampled = rus.fit_sample(x, y)"
   ]
  },
  {
   "cell_type": "code",
   "execution_count": 127,
   "metadata": {},
   "outputs": [],
   "source": [
    "X_train,X_test,y_train,y_test = train_test_split(X_resampled, y_resampled,train_size=0.95,random_state=1)"
   ]
  },
  {
   "cell_type": "code",
   "execution_count": 257,
   "metadata": {},
   "outputs": [
    {
     "name": "stdout",
     "output_type": "stream",
     "text": [
      "Confusion Matrix:\n",
      "[[19  6  5  5  3  3  5]\n",
      " [ 7 14 11  5  6  3  2]\n",
      " [ 8 13 15  3  7  8  3]\n",
      " [ 6  9 12  9 10  6  2]\n",
      " [ 8  4  6 11 15  8  5]\n",
      " [10 10  3  4 14 10  3]\n",
      " [26  5  4  2  1  5  3]]\n",
      "Classification Report:\n",
      "                   precision    recall  f1-score   support\n",
      "\n",
      "      > 48 Months       0.23      0.41      0.29        46\n",
      "     12-18 Months       0.23      0.29      0.26        48\n",
      "     18-24 Months       0.27      0.26      0.27        57\n",
      "     24-30 Months       0.23      0.17      0.19        54\n",
      "     30-36 Months       0.27      0.26      0.27        57\n",
      "     36-48 Months       0.23      0.19      0.21        54\n",
      "No Top-up Service       0.13      0.07      0.09        46\n",
      "\n",
      "         accuracy                           0.23       362\n",
      "        macro avg       0.23      0.24      0.22       362\n",
      "     weighted avg       0.23      0.23      0.23       362\n",
      "\n",
      "Accuracy: 0.23480662983425415\n"
     ]
    },
    {
     "name": "stderr",
     "output_type": "stream",
     "text": [
      "<ipython-input-256-0c7b38d5e779>:14: SettingWithCopyWarning: \n",
      "A value is trying to be set on a copy of a slice from a DataFrame.\n",
      "Try using .loc[row_indexer,col_indexer] = value instead\n",
      "\n",
      "See the caveats in the documentation: https://pandas.pydata.org/pandas-docs/stable/user_guide/indexing.html#returning-a-view-versus-a-copy\n",
      "  test['Top-up Month'] = test_result\n"
     ]
    }
   ],
   "source": [
    "fit(X_train,y_train)"
   ]
  },
  {
   "cell_type": "code",
   "execution_count": 259,
   "metadata": {},
   "outputs": [],
   "source": [
    "test=test[['ID','Top-up Month']]\n",
    "\n",
    "test.to_csv('test_result.csv',index=False)"
   ]
  },
  {
   "cell_type": "code",
   "execution_count": 295,
   "metadata": {},
   "outputs": [],
   "source": [
    "from sklearn import svm\n",
    "\n",
    "def fitsvm(x_in,y_in):\n",
    "    test_result = test.copy()\n",
    "    clf = svm.SVC()\n",
    "    clf.fit(x_in,y_in)\n",
    "    ypred=clf.predict(X_test)\n",
    "    result = confusion_matrix(y_test, ypred)\n",
    "    print(\"Confusion Matrix:\")\n",
    "    print(result)\n",
    "    result1 = classification_report(y_test, ypred)\n",
    "    print(\"Classification Report:\")\n",
    "    print (result1)\n",
    "    result2 = accuracy_score(y_test,ypred)\n",
    "    print(\"Accuracy:\",result2)\n",
    "    pred_result=clf.predict(test_result.drop('Top-up Month',1))\n",
    "    test_result['Top-up Month'] = pred_result\n",
    "    test_result=test_result[['ID','Top-up Month']]\n",
    "    test_result.to_csv('test_result_svm.csv',index=False)\n",
    "    "
   ]
  },
  {
   "cell_type": "code",
   "execution_count": 296,
   "metadata": {},
   "outputs": [
    {
     "name": "stdout",
     "output_type": "stream",
     "text": [
      "Confusion Matrix:\n",
      "[[24  3  1  1  4 11  2]\n",
      " [14 11  6  3  4  7  3]\n",
      " [15 12 11  4  5 10  0]\n",
      " [ 9  4  7 13 12  9  0]\n",
      " [11  3  4  5 21 11  2]\n",
      " [16  5  3  2 13 12  3]\n",
      " [19  7  5  2  2  6  5]]\n",
      "Classification Report:\n",
      "                   precision    recall  f1-score   support\n",
      "\n",
      "      > 48 Months       0.22      0.52      0.31        46\n",
      "     12-18 Months       0.24      0.23      0.24        48\n",
      "     18-24 Months       0.30      0.19      0.23        57\n",
      "     24-30 Months       0.43      0.24      0.31        54\n",
      "     30-36 Months       0.34      0.37      0.36        57\n",
      "     36-48 Months       0.18      0.22      0.20        54\n",
      "No Top-up Service       0.33      0.11      0.16        46\n",
      "\n",
      "         accuracy                           0.27       362\n",
      "        macro avg       0.29      0.27      0.26       362\n",
      "     weighted avg       0.30      0.27      0.26       362\n",
      "\n",
      "Accuracy: 0.26795580110497236\n"
     ]
    }
   ],
   "source": [
    "fitsvm(X_train,y_train)"
   ]
  },
  {
   "cell_type": "code",
   "execution_count": 298,
   "metadata": {},
   "outputs": [],
   "source": [
    "X_train,X_test,y_train,y_test = train_test_split(x, y,train_size=0.95,random_state=1)"
   ]
  },
  {
   "cell_type": "code",
   "execution_count": 299,
   "metadata": {},
   "outputs": [
    {
     "name": "stdout",
     "output_type": "stream",
     "text": [
      "Confusion Matrix:\n",
      "[[   0    0    0    0    0    0  423]\n",
      " [   0    0    0    0    0    0   63]\n",
      " [   0    0    0    0    0    0  137]\n",
      " [   0    0    0    0    0    0  186]\n",
      " [   0    0    0    0    0    0  166]\n",
      " [   0    0    0    0    0    0  188]\n",
      " [   0    0    0    0    0    0 5270]]\n",
      "Classification Report:\n",
      "                   precision    recall  f1-score   support\n",
      "\n",
      "      > 48 Months       0.00      0.00      0.00       423\n",
      "     12-18 Months       0.00      0.00      0.00        63\n",
      "     18-24 Months       0.00      0.00      0.00       137\n",
      "     24-30 Months       0.00      0.00      0.00       186\n",
      "     30-36 Months       0.00      0.00      0.00       166\n",
      "     36-48 Months       0.00      0.00      0.00       188\n",
      "No Top-up Service       0.82      1.00      0.90      5270\n",
      "\n",
      "         accuracy                           0.82      6433\n",
      "        macro avg       0.12      0.14      0.13      6433\n",
      "     weighted avg       0.67      0.82      0.74      6433\n",
      "\n",
      "Accuracy: 0.8192134307477071\n"
     ]
    },
    {
     "name": "stderr",
     "output_type": "stream",
     "text": [
      "C:\\Users\\rushi\\anaconda3\\lib\\site-packages\\sklearn\\metrics\\_classification.py:1221: UndefinedMetricWarning: Precision and F-score are ill-defined and being set to 0.0 in labels with no predicted samples. Use `zero_division` parameter to control this behavior.\n",
      "  _warn_prf(average, modifier, msg_start, len(result))\n"
     ]
    }
   ],
   "source": [
    "test_res = fitsvm(X_train,y_train)"
   ]
  },
  {
   "cell_type": "code",
   "execution_count": null,
   "metadata": {},
   "outputs": [],
   "source": [
    "test_result"
   ]
  }
 ],
 "metadata": {
  "kernelspec": {
   "display_name": "Python 3",
   "language": "python",
   "name": "python3"
  },
  "language_info": {
   "codemirror_mode": {
    "name": "ipython",
    "version": 3
   },
   "file_extension": ".py",
   "mimetype": "text/x-python",
   "name": "python",
   "nbconvert_exporter": "python",
   "pygments_lexer": "ipython3",
   "version": "3.8.3"
  }
 },
 "nbformat": 4,
 "nbformat_minor": 4
}
