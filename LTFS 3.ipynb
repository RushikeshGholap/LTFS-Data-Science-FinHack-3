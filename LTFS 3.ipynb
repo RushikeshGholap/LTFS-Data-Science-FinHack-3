{
 "cells": [
  {
   "cell_type": "code",
   "execution_count": 1,
   "metadata": {},
   "outputs": [],
   "source": [
    "import pandas as pd\n",
    "import matplotlib.pyplot as plt\n",
    "import seaborn as sns"
   ]
  },
  {
   "cell_type": "code",
   "execution_count": 2,
   "metadata": {},
   "outputs": [],
   "source": [
    "#import data in data frame\n",
    "subbmission = pd.read_csv('./sample_submission_ejm25Dc.csv')\n",
    "data = pd.read_excel('./Train/train_Data.xlsx')\n",
    "data_dict = pd.read_excel('./Train/data_dict.xlsx')"
   ]
  },
  {
   "cell_type": "code",
   "execution_count": 7,
   "metadata": {},
   "outputs": [
    {
     "data": {
      "text/html": [
       "<div>\n",
       "<style scoped>\n",
       "    .dataframe tbody tr th:only-of-type {\n",
       "        vertical-align: middle;\n",
       "    }\n",
       "\n",
       "    .dataframe tbody tr th {\n",
       "        vertical-align: top;\n",
       "    }\n",
       "\n",
       "    .dataframe thead th {\n",
       "        text-align: right;\n",
       "    }\n",
       "</style>\n",
       "<table border=\"1\" class=\"dataframe\">\n",
       "  <thead>\n",
       "    <tr style=\"text-align: right;\">\n",
       "      <th></th>\n",
       "      <th>ID</th>\n",
       "      <th>Frequency</th>\n",
       "      <th>InstlmentMode</th>\n",
       "      <th>LoanStatus</th>\n",
       "      <th>PaymentMode</th>\n",
       "      <th>BranchID</th>\n",
       "      <th>Area</th>\n",
       "      <th>Tenure</th>\n",
       "      <th>AssetCost</th>\n",
       "      <th>AmountFinance</th>\n",
       "      <th>...</th>\n",
       "      <th>ManufacturerID</th>\n",
       "      <th>SupplierID</th>\n",
       "      <th>LTV</th>\n",
       "      <th>SEX</th>\n",
       "      <th>AGE</th>\n",
       "      <th>MonthlyIncome</th>\n",
       "      <th>City</th>\n",
       "      <th>State</th>\n",
       "      <th>ZiPCODE</th>\n",
       "      <th>Top-up Month</th>\n",
       "    </tr>\n",
       "  </thead>\n",
       "  <tbody>\n",
       "    <tr>\n",
       "      <th>0</th>\n",
       "      <td>1</td>\n",
       "      <td>Monthly</td>\n",
       "      <td>Arrear</td>\n",
       "      <td>Closed</td>\n",
       "      <td>PDC_E</td>\n",
       "      <td>1</td>\n",
       "      <td>NaN</td>\n",
       "      <td>48</td>\n",
       "      <td>450000</td>\n",
       "      <td>275000.0</td>\n",
       "      <td>...</td>\n",
       "      <td>1568</td>\n",
       "      <td>21946</td>\n",
       "      <td>61.11</td>\n",
       "      <td>M</td>\n",
       "      <td>49.0</td>\n",
       "      <td>35833.33</td>\n",
       "      <td>RAISEN</td>\n",
       "      <td>MADHYA PRADESH</td>\n",
       "      <td>464993.0</td>\n",
       "      <td>&gt; 48 Months</td>\n",
       "    </tr>\n",
       "    <tr>\n",
       "      <th>1</th>\n",
       "      <td>2</td>\n",
       "      <td>Monthly</td>\n",
       "      <td>Advance</td>\n",
       "      <td>Closed</td>\n",
       "      <td>PDC</td>\n",
       "      <td>333</td>\n",
       "      <td>BHOPAL</td>\n",
       "      <td>47</td>\n",
       "      <td>485000</td>\n",
       "      <td>350000.0</td>\n",
       "      <td>...</td>\n",
       "      <td>1062</td>\n",
       "      <td>34802</td>\n",
       "      <td>70.00</td>\n",
       "      <td>M</td>\n",
       "      <td>23.0</td>\n",
       "      <td>666.67</td>\n",
       "      <td>SEHORE</td>\n",
       "      <td>MADHYA PRADESH</td>\n",
       "      <td>466001.0</td>\n",
       "      <td>No Top-up Service</td>\n",
       "    </tr>\n",
       "    <tr>\n",
       "      <th>2</th>\n",
       "      <td>3</td>\n",
       "      <td>Quatrly</td>\n",
       "      <td>Arrear</td>\n",
       "      <td>Active</td>\n",
       "      <td>Direct Debit</td>\n",
       "      <td>1</td>\n",
       "      <td>NaN</td>\n",
       "      <td>68</td>\n",
       "      <td>690000</td>\n",
       "      <td>519728.0</td>\n",
       "      <td>...</td>\n",
       "      <td>1060</td>\n",
       "      <td>127335</td>\n",
       "      <td>69.77</td>\n",
       "      <td>M</td>\n",
       "      <td>39.0</td>\n",
       "      <td>45257.00</td>\n",
       "      <td>BHOPAL</td>\n",
       "      <td>MADHYA PRADESH</td>\n",
       "      <td>462030.0</td>\n",
       "      <td>12-18 Months</td>\n",
       "    </tr>\n",
       "    <tr>\n",
       "      <th>3</th>\n",
       "      <td>7</td>\n",
       "      <td>Monthly</td>\n",
       "      <td>Advance</td>\n",
       "      <td>Closed</td>\n",
       "      <td>Billed</td>\n",
       "      <td>125</td>\n",
       "      <td>GUNA</td>\n",
       "      <td>48</td>\n",
       "      <td>480000</td>\n",
       "      <td>400000.0</td>\n",
       "      <td>...</td>\n",
       "      <td>1060</td>\n",
       "      <td>25094</td>\n",
       "      <td>80.92</td>\n",
       "      <td>M</td>\n",
       "      <td>24.0</td>\n",
       "      <td>20833.33</td>\n",
       "      <td>ASHOK NAGAR</td>\n",
       "      <td>MADHYA PRADESH</td>\n",
       "      <td>473335.0</td>\n",
       "      <td>&gt; 48 Months</td>\n",
       "    </tr>\n",
       "    <tr>\n",
       "      <th>4</th>\n",
       "      <td>8</td>\n",
       "      <td>Monthly</td>\n",
       "      <td>Arrear</td>\n",
       "      <td>Closed</td>\n",
       "      <td>Billed</td>\n",
       "      <td>152</td>\n",
       "      <td>BILASPUR</td>\n",
       "      <td>44</td>\n",
       "      <td>619265</td>\n",
       "      <td>440000.0</td>\n",
       "      <td>...</td>\n",
       "      <td>1046</td>\n",
       "      <td>21853</td>\n",
       "      <td>71.05</td>\n",
       "      <td>M</td>\n",
       "      <td>56.0</td>\n",
       "      <td>27313.67</td>\n",
       "      <td>BILASPUR</td>\n",
       "      <td>CHATTISGARH</td>\n",
       "      <td>495442.0</td>\n",
       "      <td>36-48 Months</td>\n",
       "    </tr>\n",
       "  </tbody>\n",
       "</table>\n",
       "<p>5 rows × 26 columns</p>\n",
       "</div>"
      ],
      "text/plain": [
       "   ID Frequency InstlmentMode LoanStatus   PaymentMode  BranchID      Area  \\\n",
       "0   1   Monthly        Arrear     Closed         PDC_E         1       NaN   \n",
       "1   2   Monthly       Advance     Closed           PDC       333    BHOPAL   \n",
       "2   3   Quatrly        Arrear     Active  Direct Debit         1       NaN   \n",
       "3   7   Monthly       Advance     Closed        Billed       125      GUNA   \n",
       "4   8   Monthly        Arrear     Closed        Billed       152  BILASPUR   \n",
       "\n",
       "   Tenure  AssetCost  AmountFinance  ...  ManufacturerID  SupplierID    LTV  \\\n",
       "0      48     450000       275000.0  ...            1568       21946  61.11   \n",
       "1      47     485000       350000.0  ...            1062       34802  70.00   \n",
       "2      68     690000       519728.0  ...            1060      127335  69.77   \n",
       "3      48     480000       400000.0  ...            1060       25094  80.92   \n",
       "4      44     619265       440000.0  ...            1046       21853  71.05   \n",
       "\n",
       "  SEX   AGE  MonthlyIncome         City           State   ZiPCODE  \\\n",
       "0   M  49.0       35833.33       RAISEN  MADHYA PRADESH  464993.0   \n",
       "1   M  23.0         666.67       SEHORE  MADHYA PRADESH  466001.0   \n",
       "2   M  39.0       45257.00       BHOPAL  MADHYA PRADESH  462030.0   \n",
       "3   M  24.0       20833.33  ASHOK NAGAR  MADHYA PRADESH  473335.0   \n",
       "4   M  56.0       27313.67     BILASPUR     CHATTISGARH  495442.0   \n",
       "\n",
       "        Top-up Month  \n",
       "0        > 48 Months  \n",
       "1  No Top-up Service  \n",
       "2       12-18 Months  \n",
       "3        > 48 Months  \n",
       "4       36-48 Months  \n",
       "\n",
       "[5 rows x 26 columns]"
      ]
     },
     "execution_count": 7,
     "metadata": {},
     "output_type": "execute_result"
    }
   ],
   "source": [
    "#look at data\n",
    "data.head()"
   ]
  },
  {
   "cell_type": "code",
   "execution_count": 20,
   "metadata": {},
   "outputs": [
    {
     "name": "stdout",
     "output_type": "stream",
     "text": [
      "<class 'pandas.core.frame.DataFrame'>\n",
      "RangeIndex: 14745 entries, 0 to 14744\n",
      "Data columns (total 2 columns):\n",
      " #   Column        Non-Null Count  Dtype \n",
      "---  ------        --------------  ----- \n",
      " 0   ID            14745 non-null  int64 \n",
      " 1   Top-up Month  14745 non-null  object\n",
      "dtypes: int64(1), object(1)\n",
      "memory usage: 230.5+ KB\n"
     ]
    }
   ],
   "source": [
    "subbmission.info()"
   ]
  },
  {
   "cell_type": "code",
   "execution_count": 13,
   "metadata": {},
   "outputs": [
    {
     "name": "stdout",
     "output_type": "stream",
     "text": [
      "<class 'pandas.core.frame.DataFrame'>\n",
      "RangeIndex: 128655 entries, 0 to 128654\n",
      "Data columns (total 26 columns):\n",
      " #   Column           Non-Null Count   Dtype         \n",
      "---  ------           --------------   -----         \n",
      " 0   ID               128655 non-null  int64         \n",
      " 1   Frequency        128655 non-null  object        \n",
      " 2   InstlmentMode    128655 non-null  object        \n",
      " 3   LoanStatus       128655 non-null  object        \n",
      " 4   PaymentMode      128655 non-null  object        \n",
      " 5   BranchID         128655 non-null  int64         \n",
      " 6   Area             117002 non-null  object        \n",
      " 7   Tenure           128655 non-null  int64         \n",
      " 8   AssetCost        128655 non-null  int64         \n",
      " 9   AmountFinance    128655 non-null  float64       \n",
      " 10  DisbursalAmount  128655 non-null  float64       \n",
      " 11  EMI              128655 non-null  float64       \n",
      " 12  DisbursalDate    128655 non-null  datetime64[ns]\n",
      " 13  MaturityDAte     128654 non-null  datetime64[ns]\n",
      " 14  AuthDate         128655 non-null  datetime64[ns]\n",
      " 15  AssetID          128655 non-null  int64         \n",
      " 16  ManufacturerID   128655 non-null  int64         \n",
      " 17  SupplierID       128655 non-null  int64         \n",
      " 18  LTV              128655 non-null  float64       \n",
      " 19  SEX              128596 non-null  object        \n",
      " 20  AGE              128596 non-null  float64       \n",
      " 21  MonthlyIncome    128421 non-null  float64       \n",
      " 22  City             117399 non-null  object        \n",
      " 23  State            128655 non-null  object        \n",
      " 24  ZiPCODE          128283 non-null  float64       \n",
      " 25  Top-up Month     128655 non-null  object        \n",
      "dtypes: datetime64[ns](3), float64(7), int64(7), object(9)\n",
      "memory usage: 25.5+ MB\n"
     ]
    }
   ],
   "source": [
    "data.info()"
   ]
  },
  {
   "cell_type": "code",
   "execution_count": 11,
   "metadata": {},
   "outputs": [
    {
     "data": {
      "text/plain": [
       "array([' > 48 Months', 'No Top-up Service', '12-18 Months',\n",
       "       '36-48 Months', '18-24 Months', '24-30 Months', '30-36 Months'],\n",
       "      dtype=object)"
      ]
     },
     "execution_count": 11,
     "metadata": {},
     "output_type": "execute_result"
    }
   ],
   "source": [
    "data['Top-up Month'].unique()"
   ]
  },
  {
   "cell_type": "code",
   "execution_count": 182,
   "metadata": {},
   "outputs": [
    {
     "data": {
      "text/plain": [
       "7"
      ]
     },
     "execution_count": 182,
     "metadata": {},
     "output_type": "execute_result"
    }
   ],
   "source": [
    "data['Top-up Month'].nunique()"
   ]
  },
  {
   "cell_type": "code",
   "execution_count": 33,
   "metadata": {},
   "outputs": [
    {
     "data": {
      "text/plain": [
       "<matplotlib.axes._subplots.AxesSubplot at 0x1636390d640>"
      ]
     },
     "execution_count": 33,
     "metadata": {},
     "output_type": "execute_result"
    },
    {
     "data": {
      "image/png": "[encoded data removed]",
      "text/plain": [
       "<Figure size 432x288 with 1 Axes>"
      ]
     },
     "metadata": {
      "needs_background": "light"
     },
     "output_type": "display_data"
    }
   ],
   "source": [
    "data['Top-up Month'].value_counts().plot(kind='bar')"
   ]
  },
  {
   "cell_type": "code",
   "execution_count": 126,
   "metadata": {},
   "outputs": [
    {
     "data": {
      "text/plain": [
       "ID                 128655\n",
       "Frequency               4\n",
       "InstlmentMode           2\n",
       "LoanStatus              2\n",
       "PaymentMode            11\n",
       "BranchID              189\n",
       "Area                   92\n",
       "Tenure                141\n",
       "AssetCost            7835\n",
       "AmountFinance       20439\n",
       "DisbursalAmount     19412\n",
       "EMI                 24323\n",
       "DisbursalDate        2837\n",
       "MaturityDAte          980\n",
       "AuthDate             2711\n",
       "AssetID            128655\n",
       "ManufacturerID         10\n",
       "SupplierID           4539\n",
       "LTV                  7988\n",
       "SEX                     2\n",
       "AGE                    73\n",
       "MonthlyIncome       11568\n",
       "City                  488\n",
       "State                  22\n",
       "ZiPCODE              6903\n",
       "Top-up Month            7\n",
       "dtype: int64"
      ]
     },
     "execution_count": 126,
     "metadata": {},
     "output_type": "execute_result"
    }
   ],
   "source": [
    "data.nunique()"
   ]
  },
  {
   "cell_type": "code",
   "execution_count": 21,
   "metadata": {},
   "outputs": [
    {
     "data": {
      "text/plain": [
       "ID                 False\n",
       "Frequency           True\n",
       "InstlmentMode       True\n",
       "LoanStatus          True\n",
       "PaymentMode         True\n",
       "BranchID           False\n",
       "Area               False\n",
       "Tenure             False\n",
       "AssetCost          False\n",
       "AmountFinance      False\n",
       "DisbursalAmount    False\n",
       "EMI                False\n",
       "DisbursalDate      False\n",
       "MaturityDAte       False\n",
       "AuthDate           False\n",
       "AssetID            False\n",
       "ManufacturerID      True\n",
       "SupplierID         False\n",
       "LTV                False\n",
       "SEX                 True\n",
       "AGE                False\n",
       "MonthlyIncome      False\n",
       "City               False\n",
       "State              False\n",
       "ZiPCODE            False\n",
       "Top-up Month        True\n",
       "dtype: bool"
      ]
     },
     "execution_count": 21,
     "metadata": {},
     "output_type": "execute_result"
    }
   ],
   "source": [
    "data.nunique()<15"
   ]
  },
  {
   "cell_type": "code",
   "execution_count": 14,
   "metadata": {},
   "outputs": [
    {
     "data": {
      "text/plain": [
       "ID                     0\n",
       "Frequency              0\n",
       "InstlmentMode          0\n",
       "LoanStatus             0\n",
       "PaymentMode            0\n",
       "BranchID               0\n",
       "Area               11653\n",
       "Tenure                 0\n",
       "AssetCost              0\n",
       "AmountFinance          0\n",
       "DisbursalAmount        0\n",
       "EMI                    0\n",
       "DisbursalDate          0\n",
       "MaturityDAte           1\n",
       "AuthDate               0\n",
       "AssetID                0\n",
       "ManufacturerID         0\n",
       "SupplierID             0\n",
       "LTV                    0\n",
       "SEX                   59\n",
       "AGE                   59\n",
       "MonthlyIncome        234\n",
       "City               11256\n",
       "State                  0\n",
       "ZiPCODE              372\n",
       "Top-up Month           0\n",
       "dtype: int64"
      ]
     },
     "execution_count": 14,
     "metadata": {},
     "output_type": "execute_result"
    }
   ],
   "source": [
    "data.isnull().sum()"
   ]
  },
  {
   "cell_type": "code",
   "execution_count": null,
   "metadata": {},
   "outputs": [],
   "source": [
    "data.n"
   ]
  },
  {
   "cell_type": "code",
   "execution_count": 17,
   "metadata": {},
   "outputs": [
    {
     "data": {
      "text/plain": [
       "Index(['ID', 'SELF-INDICATOR', 'MATCH-TYPE', 'ACCT-TYPE', 'CONTRIBUTOR-TYPE',\n",
       "       'DATE-REPORTED', 'OWNERSHIP-IND', 'ACCOUNT-STATUS', 'DISBURSED-DT',\n",
       "       'CLOSE-DT', 'LAST-PAYMENT-DATE', 'CREDIT-LIMIT/SANC AMT',\n",
       "       'DISBURSED-AMT/HIGH CREDIT', 'INSTALLMENT-AMT', 'CURRENT-BAL',\n",
       "       'INSTALLMENT-FREQUENCY', 'OVERDUE-AMT', 'WRITE-OFF-AMT', 'ASSET_CLASS',\n",
       "       'REPORTED DATE - HIST', 'DPD - HIST', 'CUR BAL - HIST',\n",
       "       'AMT OVERDUE - HIST', 'AMT PAID - HIST', 'TENURE'],\n",
       "      dtype='object')"
      ]
     },
     "execution_count": 17,
     "metadata": {},
     "output_type": "execute_result"
    }
   ],
   "source": [
    "demographic.columns"
   ]
  },
  {
   "cell_type": "code",
   "execution_count": 114,
   "metadata": {},
   "outputs": [],
   "source": [
    "#filling zip code with ranking as its categorical data , ranking is decided on basis of total disburst ammount of each zip code.\n",
    "\n",
    "zip_ranking =data.groupby('ZiPCODE')['DisbursalAmount'].sum().reset_index()\n",
    "\n",
    "zip_ranking['Ranking'] = zip_ranking['DisbursalAmount'].rank(ascending=False)\n",
    "\n",
    "ranking_for_zipcode = zip_ranking.set_index('ZiPCODE').to_dict()['Ranking']\n",
    "\n",
    "data['ZiPCODE'] = data['ZiPCODE'].map(ranking_for_zipcode)"
   ]
  },
  {
   "cell_type": "code",
   "execution_count": 125,
   "metadata": {},
   "outputs": [
    {
     "data": {
      "text/plain": [
       "372"
      ]
     },
     "execution_count": 125,
     "metadata": {},
     "output_type": "execute_result"
    }
   ],
   "source": [
    "data['ZiPCODE'].isnull().sum()"
   ]
  },
  {
   "cell_type": "code",
   "execution_count": 127,
   "metadata": {},
   "outputs": [
    {
     "data": {
      "text/plain": [
       "Index(['ID', 'Frequency', 'InstlmentMode', 'LoanStatus', 'PaymentMode',\n",
       "       'BranchID', 'Area', 'Tenure', 'AssetCost', 'AmountFinance',\n",
       "       'DisbursalAmount', 'EMI', 'DisbursalDate', 'MaturityDAte', 'AuthDate',\n",
       "       'AssetID', 'ManufacturerID', 'SupplierID', 'LTV', 'SEX', 'AGE',\n",
       "       'MonthlyIncome', 'City', 'State', 'ZiPCODE', 'Top-up Month'],\n",
       "      dtype='object')"
      ]
     },
     "execution_count": 127,
     "metadata": {},
     "output_type": "execute_result"
    }
   ],
   "source": [
    "data.columns"
   ]
  },
  {
   "cell_type": "code",
   "execution_count": 130,
   "metadata": {},
   "outputs": [],
   "source": [
    "X = data[['Frequency', 'InstlmentMode', 'LoanStatus', 'PaymentMode',\n",
    "       'BranchID',  'Tenure', 'AssetCost', 'AmountFinance',\n",
    "       'DisbursalAmount', 'EMI', 'DisbursalDate', 'MaturityDAte', 'AuthDate',\n",
    "       'AssetID', 'ManufacturerID', 'SupplierID', 'LTV', 'SEX', 'AGE',\n",
    "       'MonthlyIncome', 'ZiPCODE', 'Top-up Month']]"
   ]
  },
  {
   "cell_type": "code",
   "execution_count": 133,
   "metadata": {},
   "outputs": [
    {
     "data": {
      "text/plain": [
       "Frequency                  object\n",
       "InstlmentMode              object\n",
       "LoanStatus                 object\n",
       "PaymentMode                object\n",
       "BranchID                    int64\n",
       "Tenure                      int64\n",
       "AssetCost                   int64\n",
       "AmountFinance             float64\n",
       "DisbursalAmount           float64\n",
       "EMI                       float64\n",
       "DisbursalDate      datetime64[ns]\n",
       "MaturityDAte       datetime64[ns]\n",
       "AuthDate           datetime64[ns]\n",
       "AssetID                     int64\n",
       "ManufacturerID              int64\n",
       "SupplierID                  int64\n",
       "LTV                       float64\n",
       "SEX                        object\n",
       "AGE                       float64\n",
       "MonthlyIncome             float64\n",
       "ZiPCODE                   float64\n",
       "Top-up Month               object\n",
       "dtype: object"
      ]
     },
     "execution_count": 133,
     "metadata": {},
     "output_type": "execute_result"
    }
   ],
   "source": [
    "X.dtypes"
   ]
  },
  {
   "cell_type": "code",
   "execution_count": 134,
   "metadata": {},
   "outputs": [],
   "source": [
    "X = pd.get_dummies(data=X,columns=['Frequency','InstlmentMode','LoanStatus','PaymentMode','SEX'])"
   ]
  },
  {
   "cell_type": "code",
   "execution_count": 138,
   "metadata": {},
   "outputs": [],
   "source": [
    "X['DisbursalDate_day']=X['DisbursalDate'].dt.day\n",
    "X['DisbursalDate_month']=X['DisbursalDate'].dt.month\n",
    "X['DisbursalDate_year']=X['DisbursalDate'].dt.year\n",
    "\n",
    "\n",
    "X['MaturityDAte_day']=X['MaturityDAte'].dt.day\n",
    "X['MaturityDAte_month']=X['MaturityDAte'].dt.month\n",
    "X['MaturityDAte_year']=X['MaturityDAte'].dt.year\n",
    "\n",
    "X['AuthDate_day']=X['AuthDate'].dt.day\n",
    "X['AuthDate_month']=X['AuthDate'].dt.month\n",
    "X['AuthDate_year']=X['AuthDate'].dt.year"
   ]
  },
  {
   "cell_type": "code",
   "execution_count": 141,
   "metadata": {},
   "outputs": [
    {
     "data": {
      "text/html": [
       "<div>\n",
       "<style scoped>\n",
       "    .dataframe tbody tr th:only-of-type {\n",
       "        vertical-align: middle;\n",
       "    }\n",
       "\n",
       "    .dataframe tbody tr th {\n",
       "        vertical-align: top;\n",
       "    }\n",
       "\n",
       "    .dataframe thead th {\n",
       "        text-align: right;\n",
       "    }\n",
       "</style>\n",
       "<table border=\"1\" class=\"dataframe\">\n",
       "  <thead>\n",
       "    <tr style=\"text-align: right;\">\n",
       "      <th></th>\n",
       "      <th>BranchID</th>\n",
       "      <th>Tenure</th>\n",
       "      <th>AssetCost</th>\n",
       "      <th>AmountFinance</th>\n",
       "      <th>DisbursalAmount</th>\n",
       "      <th>EMI</th>\n",
       "      <th>DisbursalDate</th>\n",
       "      <th>MaturityDAte</th>\n",
       "      <th>AuthDate</th>\n",
       "      <th>AssetID</th>\n",
       "      <th>...</th>\n",
       "      <th>DisbursalDate_daya</th>\n",
       "      <th>DisbursalDate_day</th>\n",
       "      <th>DisbursalDate_month</th>\n",
       "      <th>DisbursalDate_year</th>\n",
       "      <th>MaturityDAte_day</th>\n",
       "      <th>MaturityDAte_month</th>\n",
       "      <th>MaturityDAte_year</th>\n",
       "      <th>AuthDate_day</th>\n",
       "      <th>AuthDate_month</th>\n",
       "      <th>AuthDate_year</th>\n",
       "    </tr>\n",
       "  </thead>\n",
       "  <tbody>\n",
       "    <tr>\n",
       "      <th>0</th>\n",
       "      <td>1</td>\n",
       "      <td>48</td>\n",
       "      <td>450000</td>\n",
       "      <td>275000.0</td>\n",
       "      <td>275000.0</td>\n",
       "      <td>24000.0</td>\n",
       "      <td>2012-02-10</td>\n",
       "      <td>2016-01-15</td>\n",
       "      <td>2012-02-10</td>\n",
       "      <td>4022465</td>\n",
       "      <td>...</td>\n",
       "      <td>10</td>\n",
       "      <td>10</td>\n",
       "      <td>2</td>\n",
       "      <td>2012</td>\n",
       "      <td>15.0</td>\n",
       "      <td>1.0</td>\n",
       "      <td>2016.0</td>\n",
       "      <td>10</td>\n",
       "      <td>2</td>\n",
       "      <td>2012</td>\n",
       "    </tr>\n",
       "    <tr>\n",
       "      <th>1</th>\n",
       "      <td>333</td>\n",
       "      <td>47</td>\n",
       "      <td>485000</td>\n",
       "      <td>350000.0</td>\n",
       "      <td>350000.0</td>\n",
       "      <td>10500.0</td>\n",
       "      <td>2012-03-31</td>\n",
       "      <td>2016-02-15</td>\n",
       "      <td>2012-03-31</td>\n",
       "      <td>4681175</td>\n",
       "      <td>...</td>\n",
       "      <td>31</td>\n",
       "      <td>31</td>\n",
       "      <td>3</td>\n",
       "      <td>2012</td>\n",
       "      <td>15.0</td>\n",
       "      <td>2.0</td>\n",
       "      <td>2016.0</td>\n",
       "      <td>31</td>\n",
       "      <td>3</td>\n",
       "      <td>2012</td>\n",
       "    </tr>\n",
       "    <tr>\n",
       "      <th>2</th>\n",
       "      <td>1</td>\n",
       "      <td>68</td>\n",
       "      <td>690000</td>\n",
       "      <td>519728.0</td>\n",
       "      <td>519728.0</td>\n",
       "      <td>38300.0</td>\n",
       "      <td>2017-06-17</td>\n",
       "      <td>2023-02-10</td>\n",
       "      <td>2017-06-17</td>\n",
       "      <td>25328146</td>\n",
       "      <td>...</td>\n",
       "      <td>17</td>\n",
       "      <td>17</td>\n",
       "      <td>6</td>\n",
       "      <td>2017</td>\n",
       "      <td>10.0</td>\n",
       "      <td>2.0</td>\n",
       "      <td>2023.0</td>\n",
       "      <td>17</td>\n",
       "      <td>6</td>\n",
       "      <td>2017</td>\n",
       "    </tr>\n",
       "    <tr>\n",
       "      <th>3</th>\n",
       "      <td>125</td>\n",
       "      <td>48</td>\n",
       "      <td>480000</td>\n",
       "      <td>400000.0</td>\n",
       "      <td>400000.0</td>\n",
       "      <td>11600.0</td>\n",
       "      <td>2013-11-29</td>\n",
       "      <td>2017-11-10</td>\n",
       "      <td>2013-11-29</td>\n",
       "      <td>13021591</td>\n",
       "      <td>...</td>\n",
       "      <td>29</td>\n",
       "      <td>29</td>\n",
       "      <td>11</td>\n",
       "      <td>2013</td>\n",
       "      <td>10.0</td>\n",
       "      <td>11.0</td>\n",
       "      <td>2017.0</td>\n",
       "      <td>29</td>\n",
       "      <td>11</td>\n",
       "      <td>2013</td>\n",
       "    </tr>\n",
       "    <tr>\n",
       "      <th>4</th>\n",
       "      <td>152</td>\n",
       "      <td>44</td>\n",
       "      <td>619265</td>\n",
       "      <td>440000.0</td>\n",
       "      <td>440000.0</td>\n",
       "      <td>15000.0</td>\n",
       "      <td>2011-12-08</td>\n",
       "      <td>2015-07-05</td>\n",
       "      <td>2011-12-08</td>\n",
       "      <td>3291320</td>\n",
       "      <td>...</td>\n",
       "      <td>8</td>\n",
       "      <td>8</td>\n",
       "      <td>12</td>\n",
       "      <td>2011</td>\n",
       "      <td>5.0</td>\n",
       "      <td>7.0</td>\n",
       "      <td>2015.0</td>\n",
       "      <td>8</td>\n",
       "      <td>12</td>\n",
       "      <td>2011</td>\n",
       "    </tr>\n",
       "    <tr>\n",
       "      <th>...</th>\n",
       "      <td>...</td>\n",
       "      <td>...</td>\n",
       "      <td>...</td>\n",
       "      <td>...</td>\n",
       "      <td>...</td>\n",
       "      <td>...</td>\n",
       "      <td>...</td>\n",
       "      <td>...</td>\n",
       "      <td>...</td>\n",
       "      <td>...</td>\n",
       "      <td>...</td>\n",
       "      <td>...</td>\n",
       "      <td>...</td>\n",
       "      <td>...</td>\n",
       "      <td>...</td>\n",
       "      <td>...</td>\n",
       "      <td>...</td>\n",
       "      <td>...</td>\n",
       "      <td>...</td>\n",
       "      <td>...</td>\n",
       "      <td>...</td>\n",
       "    </tr>\n",
       "    <tr>\n",
       "      <th>128650</th>\n",
       "      <td>424</td>\n",
       "      <td>24</td>\n",
       "      <td>470000</td>\n",
       "      <td>265601.0</td>\n",
       "      <td>265601.0</td>\n",
       "      <td>76800.0</td>\n",
       "      <td>2018-09-21</td>\n",
       "      <td>2020-06-05</td>\n",
       "      <td>2018-09-22</td>\n",
       "      <td>31286914</td>\n",
       "      <td>...</td>\n",
       "      <td>21</td>\n",
       "      <td>21</td>\n",
       "      <td>9</td>\n",
       "      <td>2018</td>\n",
       "      <td>5.0</td>\n",
       "      <td>6.0</td>\n",
       "      <td>2020.0</td>\n",
       "      <td>22</td>\n",
       "      <td>9</td>\n",
       "      <td>2018</td>\n",
       "    </tr>\n",
       "    <tr>\n",
       "      <th>128651</th>\n",
       "      <td>424</td>\n",
       "      <td>24</td>\n",
       "      <td>460000</td>\n",
       "      <td>275630.0</td>\n",
       "      <td>275630.0</td>\n",
       "      <td>80100.0</td>\n",
       "      <td>2018-09-22</td>\n",
       "      <td>2020-06-05</td>\n",
       "      <td>2018-09-22</td>\n",
       "      <td>31295422</td>\n",
       "      <td>...</td>\n",
       "      <td>22</td>\n",
       "      <td>22</td>\n",
       "      <td>9</td>\n",
       "      <td>2018</td>\n",
       "      <td>5.0</td>\n",
       "      <td>6.0</td>\n",
       "      <td>2020.0</td>\n",
       "      <td>22</td>\n",
       "      <td>9</td>\n",
       "      <td>2018</td>\n",
       "    </tr>\n",
       "    <tr>\n",
       "      <th>128652</th>\n",
       "      <td>424</td>\n",
       "      <td>23</td>\n",
       "      <td>545000</td>\n",
       "      <td>300733.0</td>\n",
       "      <td>300733.0</td>\n",
       "      <td>15277.0</td>\n",
       "      <td>2018-11-23</td>\n",
       "      <td>2020-11-05</td>\n",
       "      <td>2018-11-23</td>\n",
       "      <td>32145629</td>\n",
       "      <td>...</td>\n",
       "      <td>23</td>\n",
       "      <td>23</td>\n",
       "      <td>11</td>\n",
       "      <td>2018</td>\n",
       "      <td>5.0</td>\n",
       "      <td>11.0</td>\n",
       "      <td>2020.0</td>\n",
       "      <td>23</td>\n",
       "      <td>11</td>\n",
       "      <td>2018</td>\n",
       "    </tr>\n",
       "    <tr>\n",
       "      <th>128653</th>\n",
       "      <td>424</td>\n",
       "      <td>35</td>\n",
       "      <td>350000</td>\n",
       "      <td>250962.0</td>\n",
       "      <td>250962.0</td>\n",
       "      <td>74341.0</td>\n",
       "      <td>2018-12-20</td>\n",
       "      <td>2021-06-05</td>\n",
       "      <td>2018-12-20</td>\n",
       "      <td>32509866</td>\n",
       "      <td>...</td>\n",
       "      <td>20</td>\n",
       "      <td>20</td>\n",
       "      <td>12</td>\n",
       "      <td>2018</td>\n",
       "      <td>5.0</td>\n",
       "      <td>6.0</td>\n",
       "      <td>2021.0</td>\n",
       "      <td>20</td>\n",
       "      <td>12</td>\n",
       "      <td>2018</td>\n",
       "    </tr>\n",
       "    <tr>\n",
       "      <th>128654</th>\n",
       "      <td>424</td>\n",
       "      <td>24</td>\n",
       "      <td>370000</td>\n",
       "      <td>200428.0</td>\n",
       "      <td>200428.0</td>\n",
       "      <td>59200.0</td>\n",
       "      <td>2018-12-31</td>\n",
       "      <td>2020-11-05</td>\n",
       "      <td>2018-12-31</td>\n",
       "      <td>32663754</td>\n",
       "      <td>...</td>\n",
       "      <td>31</td>\n",
       "      <td>31</td>\n",
       "      <td>12</td>\n",
       "      <td>2018</td>\n",
       "      <td>5.0</td>\n",
       "      <td>11.0</td>\n",
       "      <td>2020.0</td>\n",
       "      <td>31</td>\n",
       "      <td>12</td>\n",
       "      <td>2018</td>\n",
       "    </tr>\n",
       "  </tbody>\n",
       "</table>\n",
       "<p>128655 rows × 48 columns</p>\n",
       "</div>"
      ],
      "text/plain": [
       "        BranchID  Tenure  AssetCost  AmountFinance  DisbursalAmount      EMI  \\\n",
       "0              1      48     450000       275000.0         275000.0  24000.0   \n",
       "1            333      47     485000       350000.0         350000.0  10500.0   \n",
       "2              1      68     690000       519728.0         519728.0  38300.0   \n",
       "3            125      48     480000       400000.0         400000.0  11600.0   \n",
       "4            152      44     619265       440000.0         440000.0  15000.0   \n",
       "...          ...     ...        ...            ...              ...      ...   \n",
       "128650       424      24     470000       265601.0         265601.0  76800.0   \n",
       "128651       424      24     460000       275630.0         275630.0  80100.0   \n",
       "128652       424      23     545000       300733.0         300733.0  15277.0   \n",
       "128653       424      35     350000       250962.0         250962.0  74341.0   \n",
       "128654       424      24     370000       200428.0         200428.0  59200.0   \n",
       "\n",
       "       DisbursalDate MaturityDAte   AuthDate   AssetID  ...  \\\n",
       "0         2012-02-10   2016-01-15 2012-02-10   4022465  ...   \n",
       "1         2012-03-31   2016-02-15 2012-03-31   4681175  ...   \n",
       "2         2017-06-17   2023-02-10 2017-06-17  25328146  ...   \n",
       "3         2013-11-29   2017-11-10 2013-11-29  13021591  ...   \n",
       "4         2011-12-08   2015-07-05 2011-12-08   3291320  ...   \n",
       "...              ...          ...        ...       ...  ...   \n",
       "128650    2018-09-21   2020-06-05 2018-09-22  31286914  ...   \n",
       "128651    2018-09-22   2020-06-05 2018-09-22  31295422  ...   \n",
       "128652    2018-11-23   2020-11-05 2018-11-23  32145629  ...   \n",
       "128653    2018-12-20   2021-06-05 2018-12-20  32509866  ...   \n",
       "128654    2018-12-31   2020-11-05 2018-12-31  32663754  ...   \n",
       "\n",
       "        DisbursalDate_daya  DisbursalDate_day  DisbursalDate_month  \\\n",
       "0                       10                 10                    2   \n",
       "1                       31                 31                    3   \n",
       "2                       17                 17                    6   \n",
       "3                       29                 29                   11   \n",
       "4                        8                  8                   12   \n",
       "...                    ...                ...                  ...   \n",
       "128650                  21                 21                    9   \n",
       "128651                  22                 22                    9   \n",
       "128652                  23                 23                   11   \n",
       "128653                  20                 20                   12   \n",
       "128654                  31                 31                   12   \n",
       "\n",
       "        DisbursalDate_year  MaturityDAte_day  MaturityDAte_month  \\\n",
       "0                     2012              15.0                 1.0   \n",
       "1                     2012              15.0                 2.0   \n",
       "2                     2017              10.0                 2.0   \n",
       "3                     2013              10.0                11.0   \n",
       "4                     2011               5.0                 7.0   \n",
       "...                    ...               ...                 ...   \n",
       "128650                2018               5.0                 6.0   \n",
       "128651                2018               5.0                 6.0   \n",
       "128652                2018               5.0                11.0   \n",
       "128653                2018               5.0                 6.0   \n",
       "128654                2018               5.0                11.0   \n",
       "\n",
       "       MaturityDAte_year  AuthDate_day  AuthDate_month  AuthDate_year  \n",
       "0                 2016.0            10               2           2012  \n",
       "1                 2016.0            31               3           2012  \n",
       "2                 2023.0            17               6           2017  \n",
       "3                 2017.0            29              11           2013  \n",
       "4                 2015.0             8              12           2011  \n",
       "...                  ...           ...             ...            ...  \n",
       "128650            2020.0            22               9           2018  \n",
       "128651            2020.0            22               9           2018  \n",
       "128652            2020.0            23              11           2018  \n",
       "128653            2021.0            20              12           2018  \n",
       "128654            2020.0            31              12           2018  \n",
       "\n",
       "[128655 rows x 48 columns]"
      ]
     },
     "execution_count": 141,
     "metadata": {},
     "output_type": "execute_result"
    }
   ],
   "source": [
    "X"
   ]
  },
  {
   "cell_type": "code",
   "execution_count": 146,
   "metadata": {},
   "outputs": [
    {
     "data": {
      "text/plain": [
       "BranchID                             int64\n",
       "Tenure                               int64\n",
       "AssetCost                            int64\n",
       "AmountFinance                      float64\n",
       "DisbursalAmount                    float64\n",
       "EMI                                float64\n",
       "DisbursalDate               datetime64[ns]\n",
       "MaturityDAte                datetime64[ns]\n",
       "AuthDate                    datetime64[ns]\n",
       "AssetID                              int64\n",
       "ManufacturerID                       int64\n",
       "SupplierID                           int64\n",
       "LTV                                float64\n",
       "AGE                                float64\n",
       "MonthlyIncome                      float64\n",
       "ZiPCODE                            float64\n",
       "Top-up Month                        object\n",
       "Frequency_BI-Monthly                 uint8\n",
       "Frequency_Half Yearly                uint8\n",
       "Frequency_Monthly                    uint8\n",
       "Frequency_Quatrly                    uint8\n",
       "InstlmentMode_Advance                uint8\n",
       "InstlmentMode_Arrear                 uint8\n",
       "LoanStatus_Active                    uint8\n",
       "LoanStatus_Closed                    uint8\n",
       "PaymentMode_Auto Debit               uint8\n",
       "PaymentMode_Billed                   uint8\n",
       "PaymentMode_Cheque                   uint8\n",
       "PaymentMode_Direct Debit             uint8\n",
       "PaymentMode_ECS                      uint8\n",
       "PaymentMode_ECS Reject               uint8\n",
       "PaymentMode_Escrow                   uint8\n",
       "PaymentMode_PDC                      uint8\n",
       "PaymentMode_PDC Reject               uint8\n",
       "PaymentMode_PDC_E                    uint8\n",
       "PaymentMode_SI Reject                uint8\n",
       "SEX_F                                uint8\n",
       "SEX_M                                uint8\n",
       "DisbursalDate_day                    int64\n",
       "DisbursalDate_month                  int64\n",
       "DisbursalDate_year                   int64\n",
       "MaturityDAte_day                   float64\n",
       "MaturityDAte_month                 float64\n",
       "MaturityDAte_year                  float64\n",
       "AuthDate_day                         int64\n",
       "AuthDate_month                       int64\n",
       "AuthDate_year                        int64\n",
       "dtype: object"
      ]
     },
     "execution_count": 146,
     "metadata": {},
     "output_type": "execute_result"
    }
   ],
   "source": [
    "X.dtypes"
   ]
  },
  {
   "cell_type": "code",
   "execution_count": 147,
   "metadata": {},
   "outputs": [],
   "source": [
    "X.drop(['DisbursalDate','MaturityDAte','AuthDate'],1,inplace=True)"
   ]
  },
  {
   "cell_type": "code",
   "execution_count": 172,
   "metadata": {},
   "outputs": [],
   "source": [
    "y=X['Top-up Month']\n",
    "X.drop('Top-up Month',1,inplace=True)"
   ]
  },
  {
   "cell_type": "code",
   "execution_count": 173,
   "metadata": {},
   "outputs": [],
   "source": [
    "\n",
    "X.dropna(inplace=True)"
   ]
  },
  {
   "cell_type": "code",
   "execution_count": 174,
   "metadata": {},
   "outputs": [],
   "source": [
    "from sklearn.model_selection import train_test_split"
   ]
  },
  {
   "cell_type": "code",
   "execution_count": 185,
   "metadata": {},
   "outputs": [],
   "source": [
    "X_train,X_test,y_train,y_test = train_test_split(X,y,train_size=50)"
   ]
  },
  {
   "cell_type": "code",
   "execution_count": 186,
   "metadata": {},
   "outputs": [],
   "source": [
    "knn_clf=KNeighborsClassifier(n_neighbors=7)\n",
    "knn_clf.fit(X_train,y_train)\n",
    "ypred=knn_clf.predict(X_test) #These are the predicted output values"
   ]
  },
  {
   "cell_type": "code",
   "execution_count": 187,
   "metadata": {},
   "outputs": [
    {
     "name": "stdout",
     "output_type": "stream",
     "text": [
      "Confusion Matrix:\n",
      "[[     0      0      0      0      0      0   8321]\n",
      " [     0      0      0      0      0      0   1034]\n",
      " [     0      0      0      0      0      0   2365]\n",
      " [     0      0      0      0      0      0   3490]\n",
      " [     0      0      0      0      0      0   3059]\n",
      " [     0      0      0      0      0      0   3645]\n",
      " [     0      0      0      0      0      0 106079]]\n"
     ]
    },
    {
     "name": "stderr",
     "output_type": "stream",
     "text": [
      "C:\\Users\\rushi\\anaconda3\\lib\\site-packages\\sklearn\\metrics\\_classification.py:1221: UndefinedMetricWarning: Precision and F-score are ill-defined and being set to 0.0 in labels with no predicted samples. Use `zero_division` parameter to control this behavior.\n",
      "  _warn_prf(average, modifier, msg_start, len(result))\n"
     ]
    },
    {
     "name": "stdout",
     "output_type": "stream",
     "text": [
      "Classification Report:\n",
      "                   precision    recall  f1-score   support\n",
      "\n",
      "      > 48 Months       0.00      0.00      0.00      8321\n",
      "     12-18 Months       0.00      0.00      0.00      1034\n",
      "     18-24 Months       0.00      0.00      0.00      2365\n",
      "     24-30 Months       0.00      0.00      0.00      3490\n",
      "     30-36 Months       0.00      0.00      0.00      3059\n",
      "     36-48 Months       0.00      0.00      0.00      3645\n",
      "No Top-up Service       0.83      1.00      0.91    106079\n",
      "\n",
      "         accuracy                           0.83    127993\n",
      "        macro avg       0.12      0.14      0.13    127993\n",
      "     weighted avg       0.69      0.83      0.75    127993\n",
      "\n",
      "Accuracy: 0.8287875118170525\n"
     ]
    }
   ],
   "source": [
    "from sklearn.metrics import classification_report, confusion_matrix, accuracy_score\n",
    "result = confusion_matrix(y_test, ypred)\n",
    "print(\"Confusion Matrix:\")\n",
    "print(result)\n",
    "result1 = classification_report(y_test, ypred)\n",
    "print(\"Classification Report:\")\n",
    "print (result1)\n",
    "result2 = accuracy_score(y_test,ypred)\n",
    "print(\"Accuracy:\",result2)"
   ]
  },
  {
   "cell_type": "code",
   "execution_count": null,
   "metadata": {},
   "outputs": [],
   "source": []
  },
  {
   "cell_type": "code",
   "execution_count": null,
   "metadata": {},
   "outputs": [],
   "source": []
  }
 ],
 "metadata": {
  "kernelspec": {
   "display_name": "Python 3",
   "language": "python",
   "name": "python3"
  },
  "language_info": {
   "codemirror_mode": {
    "name": "ipython",
    "version": 3
   },
   "file_extension": ".py",
   "mimetype": "text/x-python",
   "name": "python",
   "nbconvert_exporter": "python",
   "pygments_lexer": "ipython3",
   "version": "3.8.3"
  }
 },
 "nbformat": 4,
 "nbformat_minor": 4
}
